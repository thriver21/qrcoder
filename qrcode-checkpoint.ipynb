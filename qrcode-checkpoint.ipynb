{
 "cells": [
  {
   "cell_type": "code",
   "execution_count": 1,
   "id": "da5f50ae",
   "metadata": {},
   "outputs": [],
   "source": [
    "import qrcode"
   ]
  },
  {
   "cell_type": "code",
   "execution_count": 2,
   "id": "431c81cd",
   "metadata": {},
   "outputs": [],
   "source": [
    "from PIL import Image"
   ]
  },
  {
   "cell_type": "code",
   "execution_count": 3,
   "id": "c9d8f09d",
   "metadata": {},
   "outputs": [],
   "source": [
    "qr=qrcode.QRCode(version=1,\n",
    "                 error_correction=qrcode.constants.ERROR_CORRECT_H,\n",
    "                 box_size=10,border=4\n",
    "                )"
   ]
  },
  {
   "cell_type": "code",
   "execution_count": 4,
   "id": "5737dc43",
   "metadata": {},
   "outputs": [],
   "source": [
    "qr = qrcode.QRCode(version=1, error_correction=qrcode.constants.ERROR_CORRECT_H, box_size=10, border=4)\n",
    "\n"
   ]
  },
  {
   "cell_type": "code",
   "execution_count": 5,
   "id": "495cd985",
   "metadata": {},
   "outputs": [
    {
     "name": "stdout",
     "output_type": "stream",
     "text": [
      "Enter your value: https://www.youtube.com/watch?v=FOGRHBp6lvM&list=PLjVLYmrlmjGfAUdLiF2bQ-0l8SwNZ1sBl&index=1\n"
     ]
    }
   ],
   "source": [
    "val = input(\"Enter your value: \") \n"
   ]
  },
  {
   "cell_type": "code",
   "execution_count": 6,
   "id": "4a21cf4b",
   "metadata": {},
   "outputs": [],
   "source": [
    "qr.add_data(val)"
   ]
  },
  {
   "cell_type": "code",
   "execution_count": 7,
   "id": "d6bed45c",
   "metadata": {},
   "outputs": [],
   "source": [
    "qr.make(fit=True)"
   ]
  },
  {
   "cell_type": "code",
   "execution_count": 8,
   "id": "c144aa9d",
   "metadata": {},
   "outputs": [],
   "source": [
    "qr.make(fit=True)"
   ]
  },
  {
   "cell_type": "code",
   "execution_count": 9,
   "id": "eee5e08a",
   "metadata": {},
   "outputs": [],
   "source": [
    "img=qr.make_image(fill_color=\"black\", back_color=\"white\")"
   ]
  },
  {
   "cell_type": "code",
   "execution_count": 10,
   "id": "ad9f0ace",
   "metadata": {},
   "outputs": [],
   "source": [
    "img.save(\"qrcode.png\")"
   ]
  },
  {
   "cell_type": "code",
   "execution_count": null,
   "id": "2fa73bd5",
   "metadata": {},
   "outputs": [],
   "source": []
  }
 ],
 "metadata": {
  "kernelspec": {
   "display_name": "Python 3 (ipykernel)",
   "language": "python",
   "name": "python3"
  },
  "language_info": {
   "codemirror_mode": {
    "name": "ipython",
    "version": 3
   },
   "file_extension": ".py",
   "mimetype": "text/x-python",
   "name": "python",
   "nbconvert_exporter": "python",
   "pygments_lexer": "ipython3",
   "version": "3.11.3"
  }
 },
 "nbformat": 4,
 "nbformat_minor": 5
}
